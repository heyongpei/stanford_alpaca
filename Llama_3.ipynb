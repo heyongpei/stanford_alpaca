{
  "nbformat": 4,
  "nbformat_minor": 0,
  "metadata": {
    "colab": {
      "provenance": [],
      "authorship_tag": "ABX9TyNF9AoemtXCb3g0zuCN6Cja",
      "include_colab_link": true
    },
    "kernelspec": {
      "name": "python3",
      "display_name": "Python 3"
    },
    "language_info": {
      "name": "python"
    }
  },
  "cells": [
    {
      "cell_type": "markdown",
      "metadata": {
        "id": "view-in-github",
        "colab_type": "text"
      },
      "source": [
        "<a href=\"https://colab.research.google.com/github/heyongpei/stanford_alpaca/blob/main/Llama_3.ipynb\" target=\"_parent\"><img src=\"https://colab.research.google.com/assets/colab-badge.svg\" alt=\"Open In Colab\"/></a>"
      ]
    },
    {
      "cell_type": "code",
      "execution_count": 1,
      "metadata": {
        "colab": {
          "base_uri": "https://localhost:8080/"
        },
        "id": "3NVm_z_niAGO",
        "outputId": "13f72e33-2f39-48b9-ceb3-7c393f67b60f"
      },
      "outputs": [
        {
          "output_type": "stream",
          "name": "stdout",
          "text": [
            "Cloning into 'llama'...\n",
            "remote: Enumerating objects: 77, done.\u001b[K\n",
            "remote: Counting objects: 100% (62/62), done.\u001b[K\n",
            "remote: Compressing objects: 100% (38/38), done.\u001b[K\n",
            "remote: Total 77 (delta 27), reused 38 (delta 24), pack-reused 15\u001b[K\n",
            "Unpacking objects: 100% (77/77), 1007.11 KiB | 3.37 MiB/s, done.\n",
            "/content/llama\n",
            "Obtaining file:///content/llama\n",
            "  Preparing metadata (setup.py) ... \u001b[?25l\u001b[?25hdone\n",
            "Requirement already satisfied: torch in /usr/local/lib/python3.10/dist-packages (from llama==0.0.1) (2.0.1+cu118)\n",
            "Collecting fairscale (from llama==0.0.1)\n",
            "  Downloading fairscale-0.4.13.tar.gz (266 kB)\n",
            "\u001b[2K     \u001b[90m━━━━━━━━━━━━━━━━━━━━━━━━━━━━━━━━━━━━━━━\u001b[0m \u001b[32m266.3/266.3 kB\u001b[0m \u001b[31m5.8 MB/s\u001b[0m eta \u001b[36m0:00:00\u001b[0m\n",
            "\u001b[?25h  Installing build dependencies ... \u001b[?25l\u001b[?25hdone\n",
            "  Getting requirements to build wheel ... \u001b[?25l\u001b[?25hdone\n",
            "  Installing backend dependencies ... \u001b[?25l\u001b[?25hdone\n",
            "  Preparing metadata (pyproject.toml) ... \u001b[?25l\u001b[?25hdone\n",
            "Collecting fire (from llama==0.0.1)\n",
            "  Downloading fire-0.5.0.tar.gz (88 kB)\n",
            "\u001b[2K     \u001b[90m━━━━━━━━━━━━━━━━━━━━━━━━━━━━━━━━━━━━━━━━\u001b[0m \u001b[32m88.3/88.3 kB\u001b[0m \u001b[31m10.0 MB/s\u001b[0m eta \u001b[36m0:00:00\u001b[0m\n",
            "\u001b[?25h  Preparing metadata (setup.py) ... \u001b[?25l\u001b[?25hdone\n",
            "Collecting sentencepiece (from llama==0.0.1)\n",
            "  Downloading sentencepiece-0.1.99-cp310-cp310-manylinux_2_17_x86_64.manylinux2014_x86_64.whl (1.3 MB)\n",
            "\u001b[2K     \u001b[90m━━━━━━━━━━━━━━━━━━━━━━━━━━━━━━━━━━━━━━━━\u001b[0m \u001b[32m1.3/1.3 MB\u001b[0m \u001b[31m33.1 MB/s\u001b[0m eta \u001b[36m0:00:00\u001b[0m\n",
            "\u001b[?25hRequirement already satisfied: numpy>=1.22.0 in /usr/local/lib/python3.10/dist-packages (from fairscale->llama==0.0.1) (1.22.4)\n",
            "Requirement already satisfied: filelock in /usr/local/lib/python3.10/dist-packages (from torch->llama==0.0.1) (3.12.2)\n",
            "Requirement already satisfied: typing-extensions in /usr/local/lib/python3.10/dist-packages (from torch->llama==0.0.1) (4.7.1)\n",
            "Requirement already satisfied: sympy in /usr/local/lib/python3.10/dist-packages (from torch->llama==0.0.1) (1.11.1)\n",
            "Requirement already satisfied: networkx in /usr/local/lib/python3.10/dist-packages (from torch->llama==0.0.1) (3.1)\n",
            "Requirement already satisfied: jinja2 in /usr/local/lib/python3.10/dist-packages (from torch->llama==0.0.1) (3.1.2)\n",
            "Requirement already satisfied: triton==2.0.0 in /usr/local/lib/python3.10/dist-packages (from torch->llama==0.0.1) (2.0.0)\n",
            "Requirement already satisfied: cmake in /usr/local/lib/python3.10/dist-packages (from triton==2.0.0->torch->llama==0.0.1) (3.25.2)\n",
            "Requirement already satisfied: lit in /usr/local/lib/python3.10/dist-packages (from triton==2.0.0->torch->llama==0.0.1) (16.0.6)\n",
            "Requirement already satisfied: six in /usr/local/lib/python3.10/dist-packages (from fire->llama==0.0.1) (1.16.0)\n",
            "Requirement already satisfied: termcolor in /usr/local/lib/python3.10/dist-packages (from fire->llama==0.0.1) (2.3.0)\n",
            "Requirement already satisfied: MarkupSafe>=2.0 in /usr/local/lib/python3.10/dist-packages (from jinja2->torch->llama==0.0.1) (2.1.3)\n",
            "Requirement already satisfied: mpmath>=0.19 in /usr/local/lib/python3.10/dist-packages (from sympy->torch->llama==0.0.1) (1.3.0)\n",
            "Building wheels for collected packages: fairscale, fire\n",
            "  Building wheel for fairscale (pyproject.toml) ... \u001b[?25l\u001b[?25hdone\n",
            "  Created wheel for fairscale: filename=fairscale-0.4.13-py3-none-any.whl size=332112 sha256=bc108c1f0c6bad3a862f23f506d7f6355c3242a69879478dda6cce2524d2beda\n",
            "  Stored in directory: /root/.cache/pip/wheels/78/a4/c0/fb0a7ef03cff161611c3fa40c6cf898f76e58ec421b88e8cb3\n",
            "  Building wheel for fire (setup.py) ... \u001b[?25l\u001b[?25hdone\n",
            "  Created wheel for fire: filename=fire-0.5.0-py2.py3-none-any.whl size=116932 sha256=cd6a97540cb76d5edd022a7aceb23be5fea576213fbdb250e7cda566d369f882\n",
            "  Stored in directory: /root/.cache/pip/wheels/90/d4/f7/9404e5db0116bd4d43e5666eaa3e70ab53723e1e3ea40c9a95\n",
            "Successfully built fairscale fire\n",
            "Installing collected packages: sentencepiece, fire, fairscale, llama\n",
            "  Running setup.py develop for llama\n",
            "Successfully installed fairscale-0.4.13 fire-0.5.0 llama-0.0.1 sentencepiece-0.1.99\n",
            "Enter the URL from email: https://download.llamameta.net/*?Policy=eyJTdGF0ZW1lbnQiOlt7IlJlc291cmNlIjoiaHR0cHM6XC9cL2Rvd25sb2FkLmxsYW1hbWV0YS5uZXRcLyoiLCJDb25kaXRpb24iOnsiRGF0ZUxlc3NUaGFuIjp7IkFXUzpFcG9jaFRpbWUiOjE2ODk4Mzc2MTB9fX1dfQ__&Signature=HaL2KHNl90-HPuqBE8hwpfVHI6TNlzgj-utYNdgfbSQTGKyWUmZsni6uqST9yzgb2e3WC5CDoZ1WIlXzYaCiTJnya~BVX~yoQ6obLgiR5mLeUW48Hu8hpZ5NcihsSpvmdSIEK4cnLg65~uiacReZnWKoXp8QrB5SVhKpX5mMN--8rTQ4g6KUu3BU5gPT3oP~zJ9eytGlhWN-hUDd~p-2TKpNpx5lkAyLN0hsCMDaFcOFjIt73hIzdGuAZsSNIueSLzp9QqR-JwCIEuLP9GAfNKf2qjQ6azU913I9JAeybjFwZyJzsJxNT5GcMp0982lRIAX7sbHB1XMtfME-5RkBYw__&Key-Pair-Id=K15QRJLYKIFSLZ&fbclid=IwAR237UNkG4n03xjC7W9vIeB_vF95LKrPe9tM7G8d3S7vL2jDmIB7-lNPKuE\n",
            "\n",
            "Enter the list of models to download without spaces (7B,13B,70B,7B-chat,13B-chat,70B-chat), or press Enter for all: 70B-chat\n",
            "Downloading LICENSE and Acceptable Usage Policy\n",
            "--2023-07-19 09:46:22--  https://download.llamameta.net/LICENSE?Policy=eyJTdGF0ZW1lbnQiOlt7IlJlc291cmNlIjoiaHR0cHM6XC9cL2Rvd25sb2FkLmxsYW1hbWV0YS5uZXRcLyoiLCJDb25kaXRpb24iOnsiRGF0ZUxlc3NUaGFuIjp7IkFXUzpFcG9jaFRpbWUiOjE2ODk4Mzc2MTB9fX1dfQ__&Signature=HaL2KHNl90-HPuqBE8hwpfVHI6TNlzgj-utYNdgfbSQTGKyWUmZsni6uqST9yzgb2e3WC5CDoZ1WIlXzYaCiTJnya~BVX~yoQ6obLgiR5mLeUW48Hu8hpZ5NcihsSpvmdSIEK4cnLg65~uiacReZnWKoXp8QrB5SVhKpX5mMN--8rTQ4g6KUu3BU5gPT3oP~zJ9eytGlhWN-hUDd~p-2TKpNpx5lkAyLN0hsCMDaFcOFjIt73hIzdGuAZsSNIueSLzp9QqR-JwCIEuLP9GAfNKf2qjQ6azU913I9JAeybjFwZyJzsJxNT5GcMp0982lRIAX7sbHB1XMtfME-5RkBYw__&Key-Pair-Id=K15QRJLYKIFSLZ&fbclid=IwAR237UNkG4n03xjC7W9vIeB_vF95LKrPe9tM7G8d3S7vL2jDmIB7-lNPKuE\n",
            "Resolving download.llamameta.net (download.llamameta.net)... 13.35.35.83, 13.35.35.71, 13.35.35.94, ...\n",
            "Connecting to download.llamameta.net (download.llamameta.net)|13.35.35.83|:443... connected.\n",
            "HTTP request sent, awaiting response... 200 OK\n",
            "Length: 7020 (6.9K) [binary/octet-stream]\n",
            "Saving to: ‘./LICENSE’\n",
            "\n",
            "./LICENSE           100%[===================>]   6.86K  --.-KB/s    in 0s      \n",
            "\n",
            "2023-07-19 09:46:22 (242 MB/s) - ‘./LICENSE’ saved [7020/7020]\n",
            "\n",
            "--2023-07-19 09:46:22--  https://download.llamameta.net/USE_POLICY.md?Policy=eyJTdGF0ZW1lbnQiOlt7IlJlc291cmNlIjoiaHR0cHM6XC9cL2Rvd25sb2FkLmxsYW1hbWV0YS5uZXRcLyoiLCJDb25kaXRpb24iOnsiRGF0ZUxlc3NUaGFuIjp7IkFXUzpFcG9jaFRpbWUiOjE2ODk4Mzc2MTB9fX1dfQ__&Signature=HaL2KHNl90-HPuqBE8hwpfVHI6TNlzgj-utYNdgfbSQTGKyWUmZsni6uqST9yzgb2e3WC5CDoZ1WIlXzYaCiTJnya~BVX~yoQ6obLgiR5mLeUW48Hu8hpZ5NcihsSpvmdSIEK4cnLg65~uiacReZnWKoXp8QrB5SVhKpX5mMN--8rTQ4g6KUu3BU5gPT3oP~zJ9eytGlhWN-hUDd~p-2TKpNpx5lkAyLN0hsCMDaFcOFjIt73hIzdGuAZsSNIueSLzp9QqR-JwCIEuLP9GAfNKf2qjQ6azU913I9JAeybjFwZyJzsJxNT5GcMp0982lRIAX7sbHB1XMtfME-5RkBYw__&Key-Pair-Id=K15QRJLYKIFSLZ&fbclid=IwAR237UNkG4n03xjC7W9vIeB_vF95LKrPe9tM7G8d3S7vL2jDmIB7-lNPKuE\n",
            "Resolving download.llamameta.net (download.llamameta.net)... 13.35.35.83, 13.35.35.71, 13.35.35.94, ...\n",
            "Connecting to download.llamameta.net (download.llamameta.net)|13.35.35.83|:443... connected.\n",
            "HTTP request sent, awaiting response... 200 OK\n",
            "Length: 4766 (4.7K) [binary/octet-stream]\n",
            "Saving to: ‘./USE_POLICY.md’\n",
            "\n",
            "./USE_POLICY.md     100%[===================>]   4.65K  --.-KB/s    in 0s      \n",
            "\n",
            "2023-07-19 09:46:22 (709 MB/s) - ‘./USE_POLICY.md’ saved [4766/4766]\n",
            "\n",
            "Downloading tokenizer\n",
            "--2023-07-19 09:46:22--  https://download.llamameta.net/tokenizer.model?Policy=eyJTdGF0ZW1lbnQiOlt7IlJlc291cmNlIjoiaHR0cHM6XC9cL2Rvd25sb2FkLmxsYW1hbWV0YS5uZXRcLyoiLCJDb25kaXRpb24iOnsiRGF0ZUxlc3NUaGFuIjp7IkFXUzpFcG9jaFRpbWUiOjE2ODk4Mzc2MTB9fX1dfQ__&Signature=HaL2KHNl90-HPuqBE8hwpfVHI6TNlzgj-utYNdgfbSQTGKyWUmZsni6uqST9yzgb2e3WC5CDoZ1WIlXzYaCiTJnya~BVX~yoQ6obLgiR5mLeUW48Hu8hpZ5NcihsSpvmdSIEK4cnLg65~uiacReZnWKoXp8QrB5SVhKpX5mMN--8rTQ4g6KUu3BU5gPT3oP~zJ9eytGlhWN-hUDd~p-2TKpNpx5lkAyLN0hsCMDaFcOFjIt73hIzdGuAZsSNIueSLzp9QqR-JwCIEuLP9GAfNKf2qjQ6azU913I9JAeybjFwZyJzsJxNT5GcMp0982lRIAX7sbHB1XMtfME-5RkBYw__&Key-Pair-Id=K15QRJLYKIFSLZ&fbclid=IwAR237UNkG4n03xjC7W9vIeB_vF95LKrPe9tM7G8d3S7vL2jDmIB7-lNPKuE\n",
            "Resolving download.llamameta.net (download.llamameta.net)... 13.35.35.83, 13.35.35.71, 13.35.35.94, ...\n",
            "Connecting to download.llamameta.net (download.llamameta.net)|13.35.35.83|:443... connected.\n",
            "HTTP request sent, awaiting response... 200 OK\n",
            "Length: 499723 (488K) [binary/octet-stream]\n",
            "Saving to: ‘./tokenizer.model’\n",
            "\n",
            "./tokenizer.model   100%[===================>] 488.01K  --.-KB/s    in 0.02s   \n",
            "\n",
            "2023-07-19 09:46:22 (28.4 MB/s) - ‘./tokenizer.model’ saved [499723/499723]\n",
            "\n",
            "--2023-07-19 09:46:22--  https://download.llamameta.net/tokenizer_checklist.chk?Policy=eyJTdGF0ZW1lbnQiOlt7IlJlc291cmNlIjoiaHR0cHM6XC9cL2Rvd25sb2FkLmxsYW1hbWV0YS5uZXRcLyoiLCJDb25kaXRpb24iOnsiRGF0ZUxlc3NUaGFuIjp7IkFXUzpFcG9jaFRpbWUiOjE2ODk4Mzc2MTB9fX1dfQ__&Signature=HaL2KHNl90-HPuqBE8hwpfVHI6TNlzgj-utYNdgfbSQTGKyWUmZsni6uqST9yzgb2e3WC5CDoZ1WIlXzYaCiTJnya~BVX~yoQ6obLgiR5mLeUW48Hu8hpZ5NcihsSpvmdSIEK4cnLg65~uiacReZnWKoXp8QrB5SVhKpX5mMN--8rTQ4g6KUu3BU5gPT3oP~zJ9eytGlhWN-hUDd~p-2TKpNpx5lkAyLN0hsCMDaFcOFjIt73hIzdGuAZsSNIueSLzp9QqR-JwCIEuLP9GAfNKf2qjQ6azU913I9JAeybjFwZyJzsJxNT5GcMp0982lRIAX7sbHB1XMtfME-5RkBYw__&Key-Pair-Id=K15QRJLYKIFSLZ&fbclid=IwAR237UNkG4n03xjC7W9vIeB_vF95LKrPe9tM7G8d3S7vL2jDmIB7-lNPKuE\n",
            "Resolving download.llamameta.net (download.llamameta.net)... 13.35.35.83, 13.35.35.71, 13.35.35.94, ...\n",
            "Connecting to download.llamameta.net (download.llamameta.net)|13.35.35.83|:443... connected.\n",
            "HTTP request sent, awaiting response... 200 OK\n",
            "Length: 50 [binary/octet-stream]\n",
            "Saving to: ‘./tokenizer_checklist.chk’\n",
            "\n",
            "./tokenizer_checkli 100%[===================>]      50  --.-KB/s    in 0s      \n",
            "\n",
            "2023-07-19 09:46:23 (7.78 MB/s) - ‘./tokenizer_checklist.chk’ saved [50/50]\n",
            "\n",
            "tokenizer.model: OK\n",
            "Downloading llama-2-70b-chat\n",
            "--2023-07-19 09:46:23--  https://download.llamameta.net/llama-2-70b-chat/consolidated.00.pth?Policy=eyJTdGF0ZW1lbnQiOlt7IlJlc291cmNlIjoiaHR0cHM6XC9cL2Rvd25sb2FkLmxsYW1hbWV0YS5uZXRcLyoiLCJDb25kaXRpb24iOnsiRGF0ZUxlc3NUaGFuIjp7IkFXUzpFcG9jaFRpbWUiOjE2ODk4Mzc2MTB9fX1dfQ__&Signature=HaL2KHNl90-HPuqBE8hwpfVHI6TNlzgj-utYNdgfbSQTGKyWUmZsni6uqST9yzgb2e3WC5CDoZ1WIlXzYaCiTJnya~BVX~yoQ6obLgiR5mLeUW48Hu8hpZ5NcihsSpvmdSIEK4cnLg65~uiacReZnWKoXp8QrB5SVhKpX5mMN--8rTQ4g6KUu3BU5gPT3oP~zJ9eytGlhWN-hUDd~p-2TKpNpx5lkAyLN0hsCMDaFcOFjIt73hIzdGuAZsSNIueSLzp9QqR-JwCIEuLP9GAfNKf2qjQ6azU913I9JAeybjFwZyJzsJxNT5GcMp0982lRIAX7sbHB1XMtfME-5RkBYw__&Key-Pair-Id=K15QRJLYKIFSLZ&fbclid=IwAR237UNkG4n03xjC7W9vIeB_vF95LKrPe9tM7G8d3S7vL2jDmIB7-lNPKuE\n",
            "Resolving download.llamameta.net (download.llamameta.net)... 13.35.35.83, 13.35.35.71, 13.35.35.94, ...\n",
            "Connecting to download.llamameta.net (download.llamameta.net)|13.35.35.83|:443... connected.\n",
            "HTTP request sent, awaiting response... 200 OK\n",
            "Length: 17246706245 (16G) [binary/octet-stream]\n",
            "Saving to: ‘./llama-2-70b-chat/consolidated.00.pth’\n",
            "\n",
            "  ./llama-2-70b-cha   9%[>                   ]   1.56G   156MB/s    eta 2m 3s  ^C\n"
          ]
        }
      ],
      "source": [
        "!git clone https://github.com/facebookresearch/llama.git\n",
        "%cd llama\n",
        "!pip install -e .\n",
        "!bash ./download.sh"
      ]
    }
  ]
}